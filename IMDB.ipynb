{
 "cells": [
  {
   "cell_type": "code",
   "execution_count": 25,
   "metadata": {},
   "outputs": [],
   "source": [
    "from keras import optimizers,losses,metrics,models,layers\n",
    "from keras.datasets import imdb\n",
    "\n",
    "import numpy as np\n",
    "\n",
    "\n"
   ]
  },
  {
   "cell_type": "markdown",
   "metadata": {},
   "source": [
    "# Loading IMDB Data"
   ]
  },
  {
   "cell_type": "code",
   "execution_count": 30,
   "metadata": {},
   "outputs": [],
   "source": [
    "\n",
    "(train_data,train_labels),(test_data,test_labels) = imdb.load_data(num_words=10000)"
   ]
  },
  {
   "cell_type": "code",
   "execution_count": 4,
   "metadata": {},
   "outputs": [
    {
     "data": {
      "text/plain": [
       "9999"
      ]
     },
     "execution_count": 4,
     "metadata": {},
     "output_type": "execute_result"
    }
   ],
   "source": [
    "max([max(sequence) for sequence in train_data])"
   ]
  },
  {
   "cell_type": "code",
   "execution_count": 5,
   "metadata": {},
   "outputs": [
    {
     "name": "stdout",
     "output_type": "stream",
     "text": [
      "Downloading data from https://s3.amazonaws.com/text-datasets/imdb_word_index.json\n",
      "1646592/1641221 [==============================] - 0s 0us/step\n"
     ]
    }
   ],
   "source": [
    "word_index = imdb.get_word_index()\n",
    "reverse_word_index = dict([(value,key) for (key,value) in word_index.items()])\n",
    "\n",
    "decoded_review = ' '.join([reverse_word_index.get(i-3,'?') for i in train_data[0]])"
   ]
  },
  {
   "cell_type": "code",
   "execution_count": 6,
   "metadata": {},
   "outputs": [
    {
     "name": "stdout",
     "output_type": "stream",
     "text": [
      "? this film was just brilliant casting location scenery story direction everyone's really suited the part they played and you could just imagine being there robert ? is an amazing actor and now the same being director ? father came from the same scottish island as myself so i loved the fact there was a real connection with this film the witty remarks throughout the film were great it was just brilliant so much that i bought the film as soon as it was released for ? and would recommend it to everyone to watch and the fly fishing was amazing really cried at the end it was so sad and you know what they say if you cry at a film it must have been good and this definitely was also ? to the two little boy's that played the ? of norman and paul they were just brilliant children are often left out of the ? list i think because the stars that play them all grown up are such a big profile for the whole film but these children are amazing and should be praised for what they have done don't you think the whole story was so lovely because it was true and was someone's life after all that was shared with us all\n"
     ]
    }
   ],
   "source": [
    "print(decoded_review)"
   ]
  },
  {
   "cell_type": "markdown",
   "metadata": {},
   "source": [
    "# Encoding the integer sequence into a binary matrix"
   ]
  },
  {
   "cell_type": "code",
   "execution_count": 19,
   "metadata": {},
   "outputs": [],
   "source": [
    "def vectorize_sequence(sequences, dimension = 10000):\n",
    "    results = np.zeros((len(sequences),dimension))\n",
    "    for i, sequence in enumerate(sequences):\n",
    "        results[i, sequence] = 1.0\n",
    "        \n",
    "    return results"
   ]
  },
  {
   "cell_type": "code",
   "execution_count": 20,
   "metadata": {},
   "outputs": [],
   "source": [
    "x_train = vectorize_sequence(train_data)\n",
    "x_test = vectorize_sequence(test_data)"
   ]
  },
  {
   "cell_type": "code",
   "execution_count": 22,
   "metadata": {},
   "outputs": [
    {
     "name": "stdout",
     "output_type": "stream",
     "text": [
      "[0. 1. 1. ... 0. 0. 0.]\n"
     ]
    }
   ],
   "source": [
    "print(x_train[0])"
   ]
  },
  {
   "cell_type": "markdown",
   "metadata": {},
   "source": [
    "# Model Defination"
   ]
  },
  {
   "cell_type": "code",
   "execution_count": 39,
   "metadata": {},
   "outputs": [],
   "source": [
    "\n",
    "model = models.Sequential()\n",
    "model.add(layers.Dense(32, activation='relu', input_shape=(10000,)))\n",
    "model.add(layers.Dense(32, activation='relu'))\n",
    "model.add(layers.Dense(1 , activation='sigmoid'))\n"
   ]
  },
  {
   "cell_type": "markdown",
   "metadata": {},
   "source": [
    "# Model Compilation"
   ]
  },
  {
   "cell_type": "code",
   "execution_count": 40,
   "metadata": {},
   "outputs": [],
   "source": [
    " model.compile(optimizer= optimizers.RMSprop(lr=0.001),loss=losses.binary_crossentropy,metrics=[metrics.binary_accuracy])"
   ]
  },
  {
   "cell_type": "code",
   "execution_count": 41,
   "metadata": {},
   "outputs": [],
   "source": [
    "x_val = x_train[:10000]\n",
    "partial_x_train = x_train[10000:]\n",
    "\n",
    "y_val = train_labels[:10000]\n",
    "partial_y_train = train_labels[10000:]"
   ]
  },
  {
   "cell_type": "code",
   "execution_count": 42,
   "metadata": {},
   "outputs": [
    {
     "data": {
      "text/plain": [
       "(25000,)"
      ]
     },
     "execution_count": 42,
     "metadata": {},
     "output_type": "execute_result"
    }
   ],
   "source": [
    "train_labels.shape"
   ]
  },
  {
   "cell_type": "markdown",
   "metadata": {},
   "source": [
    "# Model Training"
   ]
  },
  {
   "cell_type": "code",
   "execution_count": 43,
   "metadata": {},
   "outputs": [
    {
     "name": "stdout",
     "output_type": "stream",
     "text": [
      "Train on 15000 samples, validate on 10000 samples\n",
      "Epoch 1/20\n",
      "15000/15000 [==============================] - 3s 193us/step - loss: 0.4872 - binary_accuracy: 0.7833 - val_loss: 0.3537 - val_binary_accuracy: 0.8725\n",
      "Epoch 2/20\n",
      "15000/15000 [==============================] - 3s 185us/step - loss: 0.2767 - binary_accuracy: 0.9079 - val_loss: 0.2873 - val_binary_accuracy: 0.8879\n",
      "Epoch 3/20\n",
      "15000/15000 [==============================] - 3s 183us/step - loss: 0.2032 - binary_accuracy: 0.9290 - val_loss: 0.2735 - val_binary_accuracy: 0.8915\n",
      "Epoch 4/20\n",
      "15000/15000 [==============================] - 3s 186us/step - loss: 0.1555 - binary_accuracy: 0.9483 - val_loss: 0.3194 - val_binary_accuracy: 0.8742\n",
      "Epoch 5/20\n",
      "15000/15000 [==============================] - 3s 182us/step - loss: 0.1235 - binary_accuracy: 0.9591 - val_loss: 0.2948 - val_binary_accuracy: 0.8877\n",
      "Epoch 6/20\n",
      "15000/15000 [==============================] - 3s 185us/step - loss: 0.1019 - binary_accuracy: 0.9665 - val_loss: 0.3819 - val_binary_accuracy: 0.8680\n",
      "Epoch 7/20\n",
      "15000/15000 [==============================] - 3s 185us/step - loss: 0.0800 - binary_accuracy: 0.9767 - val_loss: 0.3426 - val_binary_accuracy: 0.8826\n",
      "Epoch 8/20\n",
      "15000/15000 [==============================] - 3s 187us/step - loss: 0.0642 - binary_accuracy: 0.9806 - val_loss: 0.3721 - val_binary_accuracy: 0.8731\n",
      "Epoch 9/20\n",
      "15000/15000 [==============================] - 3s 185us/step - loss: 0.0508 - binary_accuracy: 0.9853 - val_loss: 0.3960 - val_binary_accuracy: 0.8772\n",
      "Epoch 10/20\n",
      "15000/15000 [==============================] - 3s 186us/step - loss: 0.0431 - binary_accuracy: 0.9879 - val_loss: 0.4306 - val_binary_accuracy: 0.8774\n",
      "Epoch 11/20\n",
      "15000/15000 [==============================] - 3s 184us/step - loss: 0.0264 - binary_accuracy: 0.9952 - val_loss: 0.4684 - val_binary_accuracy: 0.8730\n",
      "Epoch 12/20\n",
      "15000/15000 [==============================] - 3s 188us/step - loss: 0.0278 - binary_accuracy: 0.9926 - val_loss: 0.4989 - val_binary_accuracy: 0.8717\n",
      "Epoch 13/20\n",
      "15000/15000 [==============================] - 3s 188us/step - loss: 0.0168 - binary_accuracy: 0.9966 - val_loss: 0.5342 - val_binary_accuracy: 0.8718\n",
      "Epoch 14/20\n",
      "15000/15000 [==============================] - 3s 189us/step - loss: 0.0216 - binary_accuracy: 0.9945 - val_loss: 0.5633 - val_binary_accuracy: 0.8706\n",
      "Epoch 15/20\n",
      "15000/15000 [==============================] - 3s 181us/step - loss: 0.0066 - binary_accuracy: 0.9996 - val_loss: 0.5981 - val_binary_accuracy: 0.8710\n",
      "Epoch 16/20\n",
      "15000/15000 [==============================] - 3s 186us/step - loss: 0.0151 - binary_accuracy: 0.9962 - val_loss: 0.6444 - val_binary_accuracy: 0.8694\n",
      "Epoch 17/20\n",
      "15000/15000 [==============================] - 3s 184us/step - loss: 0.0032 - binary_accuracy: 0.9999 - val_loss: 0.6768 - val_binary_accuracy: 0.8691\n",
      "Epoch 18/20\n",
      "15000/15000 [==============================] - 3s 183us/step - loss: 0.0130 - binary_accuracy: 0.9957 - val_loss: 0.7093 - val_binary_accuracy: 0.8677\n",
      "Epoch 19/20\n",
      "15000/15000 [==============================] - 3s 186us/step - loss: 0.0019 - binary_accuracy: 0.9999 - val_loss: 0.7352 - val_binary_accuracy: 0.8672\n",
      "Epoch 20/20\n",
      "15000/15000 [==============================] - 3s 191us/step - loss: 0.0019 - binary_accuracy: 0.9999 - val_loss: 0.9517 - val_binary_accuracy: 0.8475\n"
     ]
    }
   ],
   "source": [
    "history = model.fit(partial_x_train,partial_y_train,epochs=20,batch_size = 512,validation_data=(x_val,y_val))"
   ]
  },
  {
   "cell_type": "markdown",
   "metadata": {},
   "source": [
    "# Graph Plots"
   ]
  },
  {
   "cell_type": "code",
   "execution_count": 44,
   "metadata": {},
   "outputs": [
    {
     "data": {
      "image/png": "[encoded data removed]",
      "text/plain": [
       "<Figure size 432x288 with 1 Axes>"
      ]
     },
     "metadata": {
      "needs_background": "light"
     },
     "output_type": "display_data"
    }
   ],
   "source": [
    "import matplotlib.pyplot as plt\n",
    "\n",
    "\n",
    "history_dict = history.history\n",
    "loss_values = history_dict['loss']\n",
    "val_loss_values = history_dict['val_loss']\n",
    "\n",
    "epochs = range(1, len(loss_values) +1)\n",
    "\n",
    "plt.plot(epochs,loss_values,'bo',label = 'Training loss')\n",
    "plt.plot(epochs, val_loss_values, 'b', label = 'Validation')\n",
    "plt.title('Training and validation loss')\n",
    "plt.xlabel('Epochs')\n",
    "plt.ylabel('Loss')\n",
    "plt.legend()\n",
    "\n",
    "plt.show()\n"
   ]
  },
  {
   "cell_type": "code",
   "execution_count": 52,
   "metadata": {},
   "outputs": [
    {
     "name": "stdout",
     "output_type": "stream",
     "text": [
      "dict_keys(['val_loss', 'val_binary_accuracy', 'loss', 'binary_accuracy'])\n"
     ]
    },
    {
     "data": {
      "image/png": "[encoded data removed]",
      "text/plain": [
       "<Figure size 432x288 with 1 Axes>"
      ]
     },
     "metadata": {
      "needs_background": "light"
     },
     "output_type": "display_data"
    }
   ],
   "source": [
    "plt.clf()\n",
    "print(history_dict.keys())\n",
    "acc_values = history_dict['binary_accuracy']\n",
    "val_acc_values = history_dict['val_binary_accuracy']\n",
    "\n",
    "\n",
    "plt.plot(epochs, acc_values,'bo',label = 'Training acc')\n",
    "plt.plot(epochs,val_acc_values,'b',label = 'Validation acc')\n",
    "plt.title('Training and validation accuracy')\n",
    "plt.xlabel('Epochs')\n",
    "plt.ylabel('Loss')\n",
    "plt.legend()\n",
    "plt.show()"
   ]
  },
  {
   "cell_type": "code",
   "execution_count": 54,
   "metadata": {},
   "outputs": [
    {
     "name": "stdout",
     "output_type": "stream",
     "text": [
      "25000/25000 [==============================] - 4s 147us/step\n"
     ]
    }
   ],
   "source": [
    "results = model.evaluate(x_test, test_labels)"
   ]
  },
  {
   "cell_type": "code",
   "execution_count": 55,
   "metadata": {},
   "outputs": [
    {
     "data": {
      "text/plain": [
       "[0.993166916821003, 0.8369600176811218]"
      ]
     },
     "execution_count": 55,
     "metadata": {},
     "output_type": "execute_result"
    }
   ],
   "source": [
    "results"
   ]
  },
  {
   "cell_type": "code",
   "execution_count": null,
   "metadata": {},
   "outputs": [],
   "source": []
  }
 ],
 "metadata": {
  "kernelspec": {
   "display_name": "Python 3",
   "language": "python",
   "name": "python3"
  },
  "language_info": {
   "codemirror_mode": {
    "name": "ipython",
    "version": 3
   },
   "file_extension": ".py",
   "mimetype": "text/x-python",
   "name": "python",
   "nbconvert_exporter": "python",
   "pygments_lexer": "ipython3",
   "version": "3.7.4"
  }
 },
 "nbformat": 4,
 "nbformat_minor": 2
}
